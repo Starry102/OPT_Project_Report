{
 "cells": [
  {
   "cell_type": "markdown",
   "id": "3fb2afbe",
   "metadata": {
    "hide_input": false
   },
   "source": [
    "# Project report"
   ]
  },
  {
   "cell_type": "markdown",
   "id": "208d2aeb",
   "metadata": {},
   "source": [
    "### Topic 6 Optimization for Machine Learning\n",
    "\n",
    "#### Hard Margin"
   ]
  },
  {
   "cell_type": "code",
   "execution_count": null,
   "id": "14258e62",
   "metadata": {},
   "outputs": [],
   "source": [
    "import numpy as np\n",
    "import matplotlib.pyplot as plt\n",
    "from numpy import linalg as LA\n",
    "import cvxpy\n",
    "from cvxpy import *"
   ]
  },
  {
   "cell_type": "code",
   "execution_count": 88,
   "id": "ea753b65",
   "metadata": {},
   "outputs": [],
   "source": [
    "# Dimension is 2\n",
    "d = 2\n",
    "# Number of points in each class\n",
    "m = 100\n",
    "n = 100\n",
    "\n",
    "x_center = [1,1]  \n",
    "y_center = [3,1] \n",
    "np.random.seed(8)"
   ]
  },
  {
   "cell_type": "code",
   "execution_count": null,
   "id": "28f584e7",
   "metadata": {},
   "outputs": [],
   "source": [
    "#2x2 array of random numbers\n",
    "orientation_x = np.random.rand(2,2) \n",
    "print(orientation_x)\n",
    "orientation_y = np.random.rand(2,2)\n",
    "\n",
    "# Generate points\n",
    "rx = np.clip(np.random.randn(m,d),-2,2)\n",
    "ry = np.clip(np.random.randn(n,d),-2,2)\n",
    "x = x_center + np.dot(rx,orientation_x)\n",
    "y = y_center + np.dot(ry,orientation_y)\n",
    "\n",
    "plt.scatter(x[:,0],x[:,1],color='blue')\n",
    "plt.scatter(y[:,0],y[:,1],color='red')"
   ]
  },
  {
   "cell_type": "code",
   "execution_count": null,
   "id": "77345aac",
   "metadata": {},
   "outputs": [],
   "source": [
    "a = Variable((d,1))\n",
    "b = Variable()\n",
    "obj = Minimize((norm(a,2)))\n",
    "\n",
    "x_constraints = [a.T * x[i] + b >= 1  for i in range(m)]\n",
    "y_constraints = [a.T * y[i] + b <= -1 for i in range(n)]\n",
    "\n",
    "constraints = x_constraints +  y_constraints  \n",
    "\n",
    "prob = Problem(obj, constraints)\n",
    "\n",
    "prob.solve()\n",
    "print(\"Problem Status: %s\"%prob.status)\n",
    "\n",
    "p = a.value\n",
    "q = b.value\n",
    "print(p)\n",
    "print(q)\n",
    "\n",
    "m = (-q - p[0]*x)/p[1]\n",
    "x = np.linspace(-1, 5, 20)\n",
    "plt.plot(x, (-q - (p[0]*x))/p[1] , 'm')\n",
    "plt.plot(x, (-q - (p[0]*x)+1)/p[1] ,'g--')\n",
    "plt.plot(x, (-q - (p[0]*x)-1)/p[1] , 'y--')\n",
    "plt.show()"
   ]
  }
 ],
 "metadata": {
  "kernelspec": {
   "display_name": "Python 3",
   "language": "python",
   "name": "python3"
  },
  "language_info": {
   "codemirror_mode": {
    "name": "ipython",
    "version": 3
   },
   "file_extension": ".py",
   "mimetype": "text/x-python",
   "name": "python",
   "nbconvert_exporter": "python",
   "pygments_lexer": "ipython3",
   "version": "3.8.8"
  }
 },
 "nbformat": 4,
 "nbformat_minor": 5
}
